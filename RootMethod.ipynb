{
 "cells": [
  {
   "cell_type": "code",
   "execution_count": 1,
   "id": "24408a2b-0e26-499e-862e-7c7474fefaf3",
   "metadata": {},
   "outputs": [],
   "source": [
    "import pandas as pd\n",
    "import numpy as np"
   ]
  },
  {
   "cell_type": "markdown",
   "id": "221acfe8-9660-4772-8b90-80a88a43a965",
   "metadata": {},
   "source": [
    "# Root"
   ]
  },
  {
   "cell_type": "markdown",
   "id": "9fc03401-8805-4731-aaf8-e172cbcc72b4",
   "metadata": {},
   "source": [
    "Vamos a definir una raiz como el numero $r \\in R$ tq $f(r)=0$ para alguna $f(x)$ que mapea desde $R \\rightarrow R$"
   ]
  },
  {
   "cell_type": "markdown",
   "id": "a38f0fcf-d80d-46d0-bf01-c947120238ad",
   "metadata": {},
   "source": [
    "## Bisection"
   ]
  },
  {
   "cell_type": "code",
   "execution_count": 2,
   "id": "29c3dbe6-522d-457a-84ef-f0794440e290",
   "metadata": {},
   "outputs": [],
   "source": [
    "## La funcion\n",
    "def f(x):\n",
    "    return x**2-4"
   ]
  },
  {
   "cell_type": "code",
   "execution_count": 3,
   "id": "59f7c08e-72e4-41fb-9d1d-46a2442f792a",
   "metadata": {},
   "outputs": [],
   "source": [
    "def bisection(f,x,y,N,tol=1e-10):\n",
    "        \n",
    "    def update(x,y):\n",
    "        return (x+y)/2\n",
    "    x0=1\n",
    "    n0=1\n",
    "\n",
    "    while np.all([abs(x0)>=tol,n0<N]):\n",
    "        v1=f(x)\n",
    "        v2=f(y)\n",
    "        x1=update(x,y)\n",
    "        v3=f(x1)\n",
    "        if v2*v3<0:\n",
    "            x=x1\n",
    "            y=y\n",
    "        elif v1*v3<0:\n",
    "            x=x\n",
    "            y=x1\n",
    "        x0=v3\n",
    "        n0+=1\n",
    "        \n",
    "    if v3==0:\n",
    "        print(f'La optimizacion da {x1} exacta, lo logro en la iteracion N°{n0}')\n",
    "    elif abs(v3)<=tol:\n",
    "        print(f'Converge a {x1} en la iteraccion N°{n0}')\n",
    "    else:\n",
    "        print(f'La optimizacion fracaso, cambio los valores iniciales')\n",
    "        \n",
    "    \n",
    "    return x1\n",
    "        \n",
    "    "
   ]
  },
  {
   "cell_type": "code",
   "execution_count": 4,
   "id": "434a8307-c176-4e4b-9c83-8ce111ead0f5",
   "metadata": {
    "tags": []
   },
   "outputs": [
    {
     "name": "stdout",
     "output_type": "stream",
     "text": [
      "La optimizacion da 2.0 exacta, lo logro en la iteracion N°57\n"
     ]
    },
    {
     "data": {
      "text/plain": [
       "2.0"
      ]
     },
     "execution_count": 4,
     "metadata": {},
     "output_type": "execute_result"
    }
   ],
   "source": [
    "bisection(f,1.5,50,1000,tol=1e-15) ### Entero lento, y necesita que los numeros de partida sea un x0 y x1 talque x0<x*<x1."
   ]
  },
  {
   "cell_type": "markdown",
   "id": "1f9e0c0b-6697-4ff3-a4a5-90192189d10b",
   "metadata": {},
   "source": [
    "## Newthon"
   ]
  },
  {
   "cell_type": "code",
   "execution_count": 5,
   "id": "f804b2db-d59d-476a-ac9d-5adb41202197",
   "metadata": {},
   "outputs": [],
   "source": [
    "def Newthon(f,df,x_0,N,tol=1e-10):\n",
    "    n0=0\n",
    "    while np.all([abs(f(x_0))>=tol,n0<N]):\n",
    "        x_1=x_0-(f(x_0)/df(x_0))\n",
    "        x_0=x_1\n",
    "        n0+=1\n",
    "    if abs(f(x_0))<=tol:\n",
    "        print (f'Converge a {x_0} en la iteracion N°{n0}')\n",
    "    else:\n",
    "        print('No corvege')\n",
    "        \n",
    "    return x_0"
   ]
  },
  {
   "cell_type": "code",
   "execution_count": 6,
   "id": "58311ecc-e15b-4f3f-9844-efd5266dad81",
   "metadata": {},
   "outputs": [],
   "source": [
    "## La primera derivada\n",
    "df=lambda x: 2*x"
   ]
  },
  {
   "cell_type": "code",
   "execution_count": 10,
   "id": "dfb8a921-7784-4d7a-a031-8e23797eb177",
   "metadata": {},
   "outputs": [
    {
     "name": "stdout",
     "output_type": "stream",
     "text": [
      "Converge a 2.000000000021489 en la iteracion N°6\n"
     ]
    },
    {
     "data": {
      "text/plain": [
       "2.000000000021489"
      ]
     },
     "execution_count": 10,
     "metadata": {},
     "output_type": "execute_result"
    }
   ],
   "source": [
    "Newthon(f,df,10,10000) ### Mucho menos iteraciones que el de biyeccion, pero necesita derivada"
   ]
  },
  {
   "cell_type": "markdown",
   "id": "0b5a8c24-387a-4af5-b215-9a97dae979c5",
   "metadata": {},
   "source": [
    "## Secant"
   ]
  },
  {
   "cell_type": "code",
   "execution_count": 8,
   "id": "e4c5f0fc-f95e-416d-83cc-dac03f644c4a",
   "metadata": {},
   "outputs": [],
   "source": [
    "### Forma sin derivada, usa una aproximacion en base a la definicion de derivada\n",
    "\n",
    "def Secant(f,x_0,x_1,N,tol=1e-10):\n",
    "    n0=0\n",
    "    while np.all([abs(f(x_0))>=tol,n0<N]):\n",
    "        x_2=x_1-f(x_1)/((f(x_1)-f(x_0))/(x_1-x_0))\n",
    "        x_0=x_1\n",
    "        x_1=x_2\n",
    "        n0+=1\n",
    "    if abs(f(x_0))<=tol:\n",
    "        print (f'Converge a {x_0} en la iteracion N°{n0}')\n",
    "    else:\n",
    "        print('No converge')\n",
    "        \n",
    "    return x_0"
   ]
  },
  {
   "cell_type": "code",
   "execution_count": 9,
   "id": "e34274c4-993d-4b76-a795-525ca9b85fe1",
   "metadata": {},
   "outputs": [
    {
     "name": "stdout",
     "output_type": "stream",
     "text": [
      "Converge a 2.000000000000004 en la iteracion N°9\n"
     ]
    },
    {
     "data": {
      "text/plain": [
       "2.000000000000004"
      ]
     },
     "execution_count": 9,
     "metadata": {},
     "output_type": "execute_result"
    }
   ],
   "source": [
    "Secant(f,6,7,10000) ## Es mas lento que newthon pero mas rapido que el biyection, pero no necesita derivada.\n",
    "\n",
    "## Notar que converge, independiente de los puntos de partida"
   ]
  },
  {
   "cell_type": "code",
   "execution_count": null,
   "id": "212c89e4-5064-4a67-8efb-e511b16767d1",
   "metadata": {},
   "outputs": [],
   "source": []
  }
 ],
 "metadata": {
  "kernelspec": {
   "display_name": "Python 3 (ipykernel)",
   "language": "python",
   "name": "python3"
  },
  "language_info": {
   "codemirror_mode": {
    "name": "ipython",
    "version": 3
   },
   "file_extension": ".py",
   "mimetype": "text/x-python",
   "name": "python",
   "nbconvert_exporter": "python",
   "pygments_lexer": "ipython3",
   "version": "3.9.7"
  }
 },
 "nbformat": 4,
 "nbformat_minor": 5
}
